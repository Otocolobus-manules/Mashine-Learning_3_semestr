{
 "cells": [
  {
   "cell_type": "markdown",
   "source": [
    "# Лабортаорная работа 7 \"Полносвязные нейронные сети\""
   ],
   "metadata": {
    "collapsed": false
   }
  },
  {
   "cell_type": "code",
   "execution_count": 29,
   "metadata": {
    "ExecuteTime": {
     "end_time": "2023-12-19T10:07:55.637406300Z",
     "start_time": "2023-12-19T10:07:55.615676600Z"
    }
   },
   "outputs": [],
   "source": [
    "import tensorflow as tf\n",
    "import pandas as pd\n",
    "import numpy as np\n",
    "import matplotlib.pyplot as plt\n",
    "import imblearn.over_sampling as oversampling\n",
    "import imblearn.under_sampling as undersampling\n",
    "import sklearn.model_selection as selection\n",
    "import sklearn.metrics as metrics\n",
    "import sklearn.preprocessing as preprocessing"
   ]
  },
  {
   "cell_type": "code",
   "execution_count": 30,
   "metadata": {
    "ExecuteTime": {
     "end_time": "2023-12-19T10:07:55.720407800Z",
     "start_time": "2023-12-19T10:07:55.640404500Z"
    }
   },
   "outputs": [
    {
     "data": {
      "text/plain": "       carat  cut  color  clarity  depth  table  price     x     y     z\n0       0.23    4      0        0   61.5   55.0    326  3.95  3.98  2.43\n1       0.21    3      0        1   59.8   61.0    326  3.89  3.84  2.31\n2       0.29    3      1        2   62.4   58.0    334  4.20  4.23  2.63\n3       0.31    1      2        0   63.3   58.0    335  4.34  4.35  2.75\n4       0.24    2      2        4   62.8   57.0    336  3.94  3.96  2.48\n...      ...  ...    ...      ...    ...    ...    ...   ...   ...   ...\n45869   0.72    4      6        1   60.8   57.0   2757  5.75  5.76  3.50\n45870   0.72    1      6        1   63.1   55.0   2757  5.69  5.75  3.61\n45871   0.70    2      6        1   62.8   60.0   2757  5.66  5.68  3.56\n45872   0.86    3      3        0   61.0   58.0   2757  6.15  6.12  3.74\n45873   0.75    4      6        0   62.2   55.0   2757  5.83  5.87  3.64\n\n[45874 rows x 10 columns]",
      "text/html": "<div>\n<style scoped>\n    .dataframe tbody tr th:only-of-type {\n        vertical-align: middle;\n    }\n\n    .dataframe tbody tr th {\n        vertical-align: top;\n    }\n\n    .dataframe thead th {\n        text-align: right;\n    }\n</style>\n<table border=\"1\" class=\"dataframe\">\n  <thead>\n    <tr style=\"text-align: right;\">\n      <th></th>\n      <th>carat</th>\n      <th>cut</th>\n      <th>color</th>\n      <th>clarity</th>\n      <th>depth</th>\n      <th>table</th>\n      <th>price</th>\n      <th>x</th>\n      <th>y</th>\n      <th>z</th>\n    </tr>\n  </thead>\n  <tbody>\n    <tr>\n      <th>0</th>\n      <td>0.23</td>\n      <td>4</td>\n      <td>0</td>\n      <td>0</td>\n      <td>61.5</td>\n      <td>55.0</td>\n      <td>326</td>\n      <td>3.95</td>\n      <td>3.98</td>\n      <td>2.43</td>\n    </tr>\n    <tr>\n      <th>1</th>\n      <td>0.21</td>\n      <td>3</td>\n      <td>0</td>\n      <td>1</td>\n      <td>59.8</td>\n      <td>61.0</td>\n      <td>326</td>\n      <td>3.89</td>\n      <td>3.84</td>\n      <td>2.31</td>\n    </tr>\n    <tr>\n      <th>2</th>\n      <td>0.29</td>\n      <td>3</td>\n      <td>1</td>\n      <td>2</td>\n      <td>62.4</td>\n      <td>58.0</td>\n      <td>334</td>\n      <td>4.20</td>\n      <td>4.23</td>\n      <td>2.63</td>\n    </tr>\n    <tr>\n      <th>3</th>\n      <td>0.31</td>\n      <td>1</td>\n      <td>2</td>\n      <td>0</td>\n      <td>63.3</td>\n      <td>58.0</td>\n      <td>335</td>\n      <td>4.34</td>\n      <td>4.35</td>\n      <td>2.75</td>\n    </tr>\n    <tr>\n      <th>4</th>\n      <td>0.24</td>\n      <td>2</td>\n      <td>2</td>\n      <td>4</td>\n      <td>62.8</td>\n      <td>57.0</td>\n      <td>336</td>\n      <td>3.94</td>\n      <td>3.96</td>\n      <td>2.48</td>\n    </tr>\n    <tr>\n      <th>...</th>\n      <td>...</td>\n      <td>...</td>\n      <td>...</td>\n      <td>...</td>\n      <td>...</td>\n      <td>...</td>\n      <td>...</td>\n      <td>...</td>\n      <td>...</td>\n      <td>...</td>\n    </tr>\n    <tr>\n      <th>45869</th>\n      <td>0.72</td>\n      <td>4</td>\n      <td>6</td>\n      <td>1</td>\n      <td>60.8</td>\n      <td>57.0</td>\n      <td>2757</td>\n      <td>5.75</td>\n      <td>5.76</td>\n      <td>3.50</td>\n    </tr>\n    <tr>\n      <th>45870</th>\n      <td>0.72</td>\n      <td>1</td>\n      <td>6</td>\n      <td>1</td>\n      <td>63.1</td>\n      <td>55.0</td>\n      <td>2757</td>\n      <td>5.69</td>\n      <td>5.75</td>\n      <td>3.61</td>\n    </tr>\n    <tr>\n      <th>45871</th>\n      <td>0.70</td>\n      <td>2</td>\n      <td>6</td>\n      <td>1</td>\n      <td>62.8</td>\n      <td>60.0</td>\n      <td>2757</td>\n      <td>5.66</td>\n      <td>5.68</td>\n      <td>3.56</td>\n    </tr>\n    <tr>\n      <th>45872</th>\n      <td>0.86</td>\n      <td>3</td>\n      <td>3</td>\n      <td>0</td>\n      <td>61.0</td>\n      <td>58.0</td>\n      <td>2757</td>\n      <td>6.15</td>\n      <td>6.12</td>\n      <td>3.74</td>\n    </tr>\n    <tr>\n      <th>45873</th>\n      <td>0.75</td>\n      <td>4</td>\n      <td>6</td>\n      <td>0</td>\n      <td>62.2</td>\n      <td>55.0</td>\n      <td>2757</td>\n      <td>5.83</td>\n      <td>5.87</td>\n      <td>3.64</td>\n    </tr>\n  </tbody>\n</table>\n<p>45874 rows × 10 columns</p>\n</div>"
     },
     "execution_count": 30,
     "metadata": {},
     "output_type": "execute_result"
    }
   ],
   "source": [
    "data_regression = pd.read_csv(\"./data/pred_data_lab_3.csv\")\n",
    "X_reg = data_regression.drop(\"price\", axis=1)\n",
    "Y_reg = data_regression.loc[:, \"price\"]\n",
    "\n",
    "del data_regression[data_regression.columns [0]]\n",
    "data_regression"
   ]
  },
  {
   "cell_type": "code",
   "execution_count": 31,
   "metadata": {
    "ExecuteTime": {
     "end_time": "2023-12-19T10:07:56.180891800Z",
     "start_time": "2023-12-19T10:07:55.703408200Z"
    }
   },
   "outputs": [
    {
     "data": {
      "text/plain": "        distance_from_home  distance_from_last_transaction  \\\n0                57.877857                        0.311140   \n1                10.829943                        0.175592   \n2                 5.091079                        0.805153   \n3                 2.247564                        5.600044   \n4                44.190936                        0.566486   \n...                    ...                             ...   \n860314            2.207101                        0.112651   \n860315           19.872726                        2.683904   \n860316            2.914857                        1.472687   \n860317            4.258729                        0.242023   \n860318           58.108125                        0.318110   \n\n        ratio_to_median_purchase_price  repeat_retailer  used_chip  \\\n0                             1.945940                1          1   \n1                             1.294219                1          0   \n2                             0.427715                1          0   \n3                             0.362663                1          1   \n4                             2.222767                1          1   \n...                                ...              ...        ...   \n860314                        1.626798                1          1   \n860315                        2.778303                1          1   \n860316                        0.218075                1          1   \n860317                        0.475822                1          0   \n860318                        0.386920                1          1   \n\n        used_pin_number  online_order  fraud  \n0                     0             0      0  \n1                     0             0      0  \n2                     0             1      0  \n3                     0             1      0  \n4                     0             1      0  \n...                 ...           ...    ...  \n860314                0             0      0  \n860315                0             0      0  \n860316                0             1      0  \n860317                0             1      0  \n860318                0             1      0  \n\n[860319 rows x 8 columns]",
      "text/html": "<div>\n<style scoped>\n    .dataframe tbody tr th:only-of-type {\n        vertical-align: middle;\n    }\n\n    .dataframe tbody tr th {\n        vertical-align: top;\n    }\n\n    .dataframe thead th {\n        text-align: right;\n    }\n</style>\n<table border=\"1\" class=\"dataframe\">\n  <thead>\n    <tr style=\"text-align: right;\">\n      <th></th>\n      <th>distance_from_home</th>\n      <th>distance_from_last_transaction</th>\n      <th>ratio_to_median_purchase_price</th>\n      <th>repeat_retailer</th>\n      <th>used_chip</th>\n      <th>used_pin_number</th>\n      <th>online_order</th>\n      <th>fraud</th>\n    </tr>\n  </thead>\n  <tbody>\n    <tr>\n      <th>0</th>\n      <td>57.877857</td>\n      <td>0.311140</td>\n      <td>1.945940</td>\n      <td>1</td>\n      <td>1</td>\n      <td>0</td>\n      <td>0</td>\n      <td>0</td>\n    </tr>\n    <tr>\n      <th>1</th>\n      <td>10.829943</td>\n      <td>0.175592</td>\n      <td>1.294219</td>\n      <td>1</td>\n      <td>0</td>\n      <td>0</td>\n      <td>0</td>\n      <td>0</td>\n    </tr>\n    <tr>\n      <th>2</th>\n      <td>5.091079</td>\n      <td>0.805153</td>\n      <td>0.427715</td>\n      <td>1</td>\n      <td>0</td>\n      <td>0</td>\n      <td>1</td>\n      <td>0</td>\n    </tr>\n    <tr>\n      <th>3</th>\n      <td>2.247564</td>\n      <td>5.600044</td>\n      <td>0.362663</td>\n      <td>1</td>\n      <td>1</td>\n      <td>0</td>\n      <td>1</td>\n      <td>0</td>\n    </tr>\n    <tr>\n      <th>4</th>\n      <td>44.190936</td>\n      <td>0.566486</td>\n      <td>2.222767</td>\n      <td>1</td>\n      <td>1</td>\n      <td>0</td>\n      <td>1</td>\n      <td>0</td>\n    </tr>\n    <tr>\n      <th>...</th>\n      <td>...</td>\n      <td>...</td>\n      <td>...</td>\n      <td>...</td>\n      <td>...</td>\n      <td>...</td>\n      <td>...</td>\n      <td>...</td>\n    </tr>\n    <tr>\n      <th>860314</th>\n      <td>2.207101</td>\n      <td>0.112651</td>\n      <td>1.626798</td>\n      <td>1</td>\n      <td>1</td>\n      <td>0</td>\n      <td>0</td>\n      <td>0</td>\n    </tr>\n    <tr>\n      <th>860315</th>\n      <td>19.872726</td>\n      <td>2.683904</td>\n      <td>2.778303</td>\n      <td>1</td>\n      <td>1</td>\n      <td>0</td>\n      <td>0</td>\n      <td>0</td>\n    </tr>\n    <tr>\n      <th>860316</th>\n      <td>2.914857</td>\n      <td>1.472687</td>\n      <td>0.218075</td>\n      <td>1</td>\n      <td>1</td>\n      <td>0</td>\n      <td>1</td>\n      <td>0</td>\n    </tr>\n    <tr>\n      <th>860317</th>\n      <td>4.258729</td>\n      <td>0.242023</td>\n      <td>0.475822</td>\n      <td>1</td>\n      <td>0</td>\n      <td>0</td>\n      <td>1</td>\n      <td>0</td>\n    </tr>\n    <tr>\n      <th>860318</th>\n      <td>58.108125</td>\n      <td>0.318110</td>\n      <td>0.386920</td>\n      <td>1</td>\n      <td>1</td>\n      <td>0</td>\n      <td>1</td>\n      <td>0</td>\n    </tr>\n  </tbody>\n</table>\n<p>860319 rows × 8 columns</p>\n</div>"
     },
     "execution_count": 31,
     "metadata": {},
     "output_type": "execute_result"
    }
   ],
   "source": [
    "data_classification = pd.read_csv(\"./data/pred_data_lab_4.csv\")\n",
    "\n",
    "for i in [\"repeat_retailer\", \"used_chip\", \"used_pin_number\", \"online_order\", \"fraud\"]:\n",
    "    data_classification[i] = data_classification[i].astype(int)\n",
    "del data_classification[data_classification.columns [0]]\n",
    "\n",
    "X_class = data_classification.drop(\"fraud\", axis=1)\n",
    "Y_class = data_classification.fraud\n",
    "# X_class, Y_class = undersampling.EditedNearestNeighbours(n_neighbors=5, n_jobs=-1).fit_resample(X_class, Y_class)\n",
    "data_classification"
   ]
  },
  {
   "cell_type": "code",
   "execution_count": 32,
   "metadata": {
    "ExecuteTime": {
     "end_time": "2023-12-19T10:07:56.186340500Z",
     "start_time": "2023-12-19T10:07:56.182389600Z"
    }
   },
   "outputs": [
    {
     "data": {
      "text/plain": "0"
     },
     "execution_count": 32,
     "metadata": {},
     "output_type": "execute_result"
    }
   ],
   "source": [
    "Y_class.isnull().sum()"
   ]
  },
  {
   "cell_type": "code",
   "execution_count": 33,
   "metadata": {
    "ExecuteTime": {
     "end_time": "2023-12-19T10:07:56.270485200Z",
     "start_time": "2023-12-19T10:07:56.185839900Z"
    }
   },
   "outputs": [
    {
     "name": "stderr",
     "output_type": "stream",
     "text": [
      "C:\\Users\\Capybaras\\anaconda3\\Lib\\site-packages\\sklearn\\utils\\validation.py:767: FutureWarning: is_sparse is deprecated and will be removed in a future version. Check `isinstance(dtype, pd.SparseDtype)` instead.\n",
      "  if not hasattr(array, \"sparse\") and array.dtypes.apply(is_sparse).any():\n",
      "C:\\Users\\Capybaras\\anaconda3\\Lib\\site-packages\\sklearn\\utils\\validation.py:605: FutureWarning: is_sparse is deprecated and will be removed in a future version. Check `isinstance(dtype, pd.SparseDtype)` instead.\n",
      "  if is_sparse(pd_dtype):\n",
      "C:\\Users\\Capybaras\\anaconda3\\Lib\\site-packages\\sklearn\\utils\\validation.py:614: FutureWarning: is_sparse is deprecated and will be removed in a future version. Check `isinstance(dtype, pd.SparseDtype)` instead.\n",
      "  if is_sparse(pd_dtype) or not is_extension_array_dtype(pd_dtype):\n",
      "C:\\Users\\Capybaras\\anaconda3\\Lib\\site-packages\\sklearn\\utils\\validation.py:767: FutureWarning: is_sparse is deprecated and will be removed in a future version. Check `isinstance(dtype, pd.SparseDtype)` instead.\n",
      "  if not hasattr(array, \"sparse\") and array.dtypes.apply(is_sparse).any():\n",
      "C:\\Users\\Capybaras\\anaconda3\\Lib\\site-packages\\sklearn\\utils\\validation.py:605: FutureWarning: is_sparse is deprecated and will be removed in a future version. Check `isinstance(dtype, pd.SparseDtype)` instead.\n",
      "  if is_sparse(pd_dtype):\n",
      "C:\\Users\\Capybaras\\anaconda3\\Lib\\site-packages\\sklearn\\utils\\validation.py:614: FutureWarning: is_sparse is deprecated and will be removed in a future version. Check `isinstance(dtype, pd.SparseDtype)` instead.\n",
      "  if is_sparse(pd_dtype) or not is_extension_array_dtype(pd_dtype):\n"
     ]
    }
   ],
   "source": [
    "scaler = preprocessing.StandardScaler()\n",
    "X_class = pd.DataFrame(scaler.fit_transform(X_class), columns=X_class.columns)"
   ]
  },
  {
   "cell_type": "code",
   "execution_count": 34,
   "metadata": {
    "ExecuteTime": {
     "end_time": "2023-12-19T10:07:56.916341500Z",
     "start_time": "2023-12-19T10:07:56.268486500Z"
    }
   },
   "outputs": [
    {
     "name": "stderr",
     "output_type": "stream",
     "text": [
      "C:\\Users\\Capybaras\\anaconda3\\Lib\\site-packages\\sklearn\\utils\\validation.py:605: FutureWarning: is_sparse is deprecated and will be removed in a future version. Check `isinstance(dtype, pd.SparseDtype)` instead.\n",
      "  if is_sparse(pd_dtype):\n",
      "C:\\Users\\Capybaras\\anaconda3\\Lib\\site-packages\\sklearn\\utils\\validation.py:614: FutureWarning: is_sparse is deprecated and will be removed in a future version. Check `isinstance(dtype, pd.SparseDtype)` instead.\n",
      "  if is_sparse(pd_dtype) or not is_extension_array_dtype(pd_dtype):\n",
      "C:\\Users\\Capybaras\\anaconda3\\Lib\\site-packages\\sklearn\\utils\\validation.py:605: FutureWarning: is_sparse is deprecated and will be removed in a future version. Check `isinstance(dtype, pd.SparseDtype)` instead.\n",
      "  if is_sparse(pd_dtype):\n",
      "C:\\Users\\Capybaras\\anaconda3\\Lib\\site-packages\\sklearn\\utils\\validation.py:614: FutureWarning: is_sparse is deprecated and will be removed in a future version. Check `isinstance(dtype, pd.SparseDtype)` instead.\n",
      "  if is_sparse(pd_dtype) or not is_extension_array_dtype(pd_dtype):\n",
      "C:\\Users\\Capybaras\\anaconda3\\Lib\\site-packages\\sklearn\\utils\\validation.py:605: FutureWarning: is_sparse is deprecated and will be removed in a future version. Check `isinstance(dtype, pd.SparseDtype)` instead.\n",
      "  if is_sparse(pd_dtype):\n",
      "C:\\Users\\Capybaras\\anaconda3\\Lib\\site-packages\\sklearn\\utils\\validation.py:614: FutureWarning: is_sparse is deprecated and will be removed in a future version. Check `isinstance(dtype, pd.SparseDtype)` instead.\n",
      "  if is_sparse(pd_dtype) or not is_extension_array_dtype(pd_dtype):\n",
      "C:\\Users\\Capybaras\\anaconda3\\Lib\\site-packages\\sklearn\\utils\\validation.py:605: FutureWarning: is_sparse is deprecated and will be removed in a future version. Check `isinstance(dtype, pd.SparseDtype)` instead.\n",
      "  if is_sparse(pd_dtype):\n",
      "C:\\Users\\Capybaras\\anaconda3\\Lib\\site-packages\\sklearn\\utils\\validation.py:614: FutureWarning: is_sparse is deprecated and will be removed in a future version. Check `isinstance(dtype, pd.SparseDtype)` instead.\n",
      "  if is_sparse(pd_dtype) or not is_extension_array_dtype(pd_dtype):\n",
      "C:\\Users\\Capybaras\\anaconda3\\Lib\\site-packages\\sklearn\\utils\\validation.py:605: FutureWarning: is_sparse is deprecated and will be removed in a future version. Check `isinstance(dtype, pd.SparseDtype)` instead.\n",
      "  if is_sparse(pd_dtype):\n",
      "C:\\Users\\Capybaras\\anaconda3\\Lib\\site-packages\\sklearn\\utils\\validation.py:614: FutureWarning: is_sparse is deprecated and will be removed in a future version. Check `isinstance(dtype, pd.SparseDtype)` instead.\n",
      "  if is_sparse(pd_dtype) or not is_extension_array_dtype(pd_dtype):\n",
      "C:\\Users\\Capybaras\\anaconda3\\Lib\\site-packages\\sklearn\\utils\\validation.py:605: FutureWarning: is_sparse is deprecated and will be removed in a future version. Check `isinstance(dtype, pd.SparseDtype)` instead.\n",
      "  if is_sparse(pd_dtype):\n",
      "C:\\Users\\Capybaras\\anaconda3\\Lib\\site-packages\\sklearn\\utils\\validation.py:614: FutureWarning: is_sparse is deprecated and will be removed in a future version. Check `isinstance(dtype, pd.SparseDtype)` instead.\n",
      "  if is_sparse(pd_dtype) or not is_extension_array_dtype(pd_dtype):\n",
      "C:\\Users\\Capybaras\\anaconda3\\Lib\\site-packages\\sklearn\\utils\\validation.py:767: FutureWarning: is_sparse is deprecated and will be removed in a future version. Check `isinstance(dtype, pd.SparseDtype)` instead.\n",
      "  if not hasattr(array, \"sparse\") and array.dtypes.apply(is_sparse).any():\n",
      "C:\\Users\\Capybaras\\anaconda3\\Lib\\site-packages\\sklearn\\utils\\validation.py:605: FutureWarning: is_sparse is deprecated and will be removed in a future version. Check `isinstance(dtype, pd.SparseDtype)` instead.\n",
      "  if is_sparse(pd_dtype):\n",
      "C:\\Users\\Capybaras\\anaconda3\\Lib\\site-packages\\sklearn\\utils\\validation.py:614: FutureWarning: is_sparse is deprecated and will be removed in a future version. Check `isinstance(dtype, pd.SparseDtype)` instead.\n",
      "  if is_sparse(pd_dtype) or not is_extension_array_dtype(pd_dtype):\n"
     ]
    }
   ],
   "source": [
    "X_reg_train, X_reg_test, Y_reg_train, Y_reg_test = selection.train_test_split(X_reg, Y_reg, test_size=0.2, random_state=14)\n",
    "X_class_train, X_class_test, Y_class_train, Y_class_test = selection.train_test_split(X_class, Y_class, test_size=0.2, stratify=Y_class, random_state=14)\n",
    "\n",
    "X_class_train, Y_class_train = oversampling.SMOTE().fit_resample(X_class_train, Y_class_train)"
   ]
  },
  {
   "cell_type": "code",
   "execution_count": 35,
   "metadata": {
    "ExecuteTime": {
     "end_time": "2023-12-19T10:07:56.934201500Z",
     "start_time": "2023-12-19T10:07:56.916842800Z"
    }
   },
   "outputs": [],
   "source": [
    "X_class_train, X_class_test = X_class_train.astype(float), X_class_test.astype(float)"
   ]
  },
  {
   "cell_type": "code",
   "execution_count": 36,
   "metadata": {
    "ExecuteTime": {
     "end_time": "2023-12-19T10:07:56.966232800Z",
     "start_time": "2023-12-19T10:07:56.935705500Z"
    }
   },
   "outputs": [],
   "source": [
    "regression_model = tf.keras.Sequential(\n",
    "    [\n",
    "        tf.keras.layers.Input(shape=(10,)),\n",
    "        tf.keras.layers.Dense(512, activation=\"relu\"),\n",
    "        tf.keras.layers.Dropout(0.5),\n",
    "        tf.keras.layers.Dense(164, activation=\"relu\"),\n",
    "        tf.keras.layers.Dropout(0.25),\n",
    "        tf.keras.layers.Dense(1, activation=\"relu\")\n",
    "    ]\n",
    ")"
   ]
  },
  {
   "cell_type": "code",
   "execution_count": 37,
   "metadata": {
    "ExecuteTime": {
     "end_time": "2023-12-19T10:07:56.976939500Z",
     "start_time": "2023-12-19T10:07:56.966733Z"
    }
   },
   "outputs": [
    {
     "name": "stdout",
     "output_type": "stream",
     "text": [
      "Model: \"sequential_2\"\n",
      "_________________________________________________________________\n",
      " Layer (type)                Output Shape              Param #   \n",
      "=================================================================\n",
      " dense_8 (Dense)             (None, 512)               5632      \n",
      "                                                                 \n",
      " dropout_6 (Dropout)         (None, 512)               0         \n",
      "                                                                 \n",
      " dense_9 (Dense)             (None, 164)               84132     \n",
      "                                                                 \n",
      " dropout_7 (Dropout)         (None, 164)               0         \n",
      "                                                                 \n",
      " dense_10 (Dense)            (None, 1)                 165       \n",
      "                                                                 \n",
      "=================================================================\n",
      "Total params: 89929 (351.29 KB)\n",
      "Trainable params: 89929 (351.29 KB)\n",
      "Non-trainable params: 0 (0.00 Byte)\n",
      "_________________________________________________________________\n"
     ]
    }
   ],
   "source": [
    "regression_model.summary()"
   ]
  },
  {
   "cell_type": "code",
   "execution_count": 38,
   "metadata": {
    "ExecuteTime": {
     "end_time": "2023-12-19T10:07:56.985719900Z",
     "start_time": "2023-12-19T10:07:56.976439300Z"
    }
   },
   "outputs": [],
   "source": [
    "regression_model.compile(optimizer=tf.keras.optimizers.Adam(learning_rate=0.00032), loss=tf.keras.losses.MeanAbsoluteError())"
   ]
  },
  {
   "cell_type": "code",
   "execution_count": 39,
   "outputs": [
    {
     "data": {
      "text/plain": "       Unnamed: 0  carat  cut  color  clarity  depth  table     x     y     z\n17045       18551   1.21    4      3        2   62.9   55.0  6.80  6.75  4.26\n18198       19784   1.13    3      0        3   61.1   59.0  6.72  6.69  4.10\n41654       49231   0.54    4      4        3   61.1   55.0  5.26  5.32  3.23\n10793       11883   0.99    2      4        1   62.5   58.0  6.36  6.38  3.98\n24866       30546   0.31    4      6        2   62.0   55.0  4.33  4.35  2.69\n...           ...    ...  ...    ...      ...    ...    ...   ...   ...   ...\n5279         5907   0.81    4      4        3   61.5   55.0  6.01  5.96  3.68\n26729       32523   0.35    4      5        4   62.1   56.0  4.47  4.51  2.79\n2600         2901   0.84    4      1        3   62.3   59.0  5.99  6.04  3.75\n13570       14829   1.01    3      0        1   60.0   59.0  6.53  6.47  3.90\n10356       11421   1.07    4      1        1   61.7   56.1  6.57  6.59  4.06\n\n[9175 rows x 10 columns]",
      "text/html": "<div>\n<style scoped>\n    .dataframe tbody tr th:only-of-type {\n        vertical-align: middle;\n    }\n\n    .dataframe tbody tr th {\n        vertical-align: top;\n    }\n\n    .dataframe thead th {\n        text-align: right;\n    }\n</style>\n<table border=\"1\" class=\"dataframe\">\n  <thead>\n    <tr style=\"text-align: right;\">\n      <th></th>\n      <th>Unnamed: 0</th>\n      <th>carat</th>\n      <th>cut</th>\n      <th>color</th>\n      <th>clarity</th>\n      <th>depth</th>\n      <th>table</th>\n      <th>x</th>\n      <th>y</th>\n      <th>z</th>\n    </tr>\n  </thead>\n  <tbody>\n    <tr>\n      <th>17045</th>\n      <td>18551</td>\n      <td>1.21</td>\n      <td>4</td>\n      <td>3</td>\n      <td>2</td>\n      <td>62.9</td>\n      <td>55.0</td>\n      <td>6.80</td>\n      <td>6.75</td>\n      <td>4.26</td>\n    </tr>\n    <tr>\n      <th>18198</th>\n      <td>19784</td>\n      <td>1.13</td>\n      <td>3</td>\n      <td>0</td>\n      <td>3</td>\n      <td>61.1</td>\n      <td>59.0</td>\n      <td>6.72</td>\n      <td>6.69</td>\n      <td>4.10</td>\n    </tr>\n    <tr>\n      <th>41654</th>\n      <td>49231</td>\n      <td>0.54</td>\n      <td>4</td>\n      <td>4</td>\n      <td>3</td>\n      <td>61.1</td>\n      <td>55.0</td>\n      <td>5.26</td>\n      <td>5.32</td>\n      <td>3.23</td>\n    </tr>\n    <tr>\n      <th>10793</th>\n      <td>11883</td>\n      <td>0.99</td>\n      <td>2</td>\n      <td>4</td>\n      <td>1</td>\n      <td>62.5</td>\n      <td>58.0</td>\n      <td>6.36</td>\n      <td>6.38</td>\n      <td>3.98</td>\n    </tr>\n    <tr>\n      <th>24866</th>\n      <td>30546</td>\n      <td>0.31</td>\n      <td>4</td>\n      <td>6</td>\n      <td>2</td>\n      <td>62.0</td>\n      <td>55.0</td>\n      <td>4.33</td>\n      <td>4.35</td>\n      <td>2.69</td>\n    </tr>\n    <tr>\n      <th>...</th>\n      <td>...</td>\n      <td>...</td>\n      <td>...</td>\n      <td>...</td>\n      <td>...</td>\n      <td>...</td>\n      <td>...</td>\n      <td>...</td>\n      <td>...</td>\n      <td>...</td>\n    </tr>\n    <tr>\n      <th>5279</th>\n      <td>5907</td>\n      <td>0.81</td>\n      <td>4</td>\n      <td>4</td>\n      <td>3</td>\n      <td>61.5</td>\n      <td>55.0</td>\n      <td>6.01</td>\n      <td>5.96</td>\n      <td>3.68</td>\n    </tr>\n    <tr>\n      <th>26729</th>\n      <td>32523</td>\n      <td>0.35</td>\n      <td>4</td>\n      <td>5</td>\n      <td>4</td>\n      <td>62.1</td>\n      <td>56.0</td>\n      <td>4.47</td>\n      <td>4.51</td>\n      <td>2.79</td>\n    </tr>\n    <tr>\n      <th>2600</th>\n      <td>2901</td>\n      <td>0.84</td>\n      <td>4</td>\n      <td>1</td>\n      <td>3</td>\n      <td>62.3</td>\n      <td>59.0</td>\n      <td>5.99</td>\n      <td>6.04</td>\n      <td>3.75</td>\n    </tr>\n    <tr>\n      <th>13570</th>\n      <td>14829</td>\n      <td>1.01</td>\n      <td>3</td>\n      <td>0</td>\n      <td>1</td>\n      <td>60.0</td>\n      <td>59.0</td>\n      <td>6.53</td>\n      <td>6.47</td>\n      <td>3.90</td>\n    </tr>\n    <tr>\n      <th>10356</th>\n      <td>11421</td>\n      <td>1.07</td>\n      <td>4</td>\n      <td>1</td>\n      <td>1</td>\n      <td>61.7</td>\n      <td>56.1</td>\n      <td>6.57</td>\n      <td>6.59</td>\n      <td>4.06</td>\n    </tr>\n  </tbody>\n</table>\n<p>9175 rows × 10 columns</p>\n</div>"
     },
     "execution_count": 39,
     "metadata": {},
     "output_type": "execute_result"
    }
   ],
   "source": [
    "X_reg_test"
   ],
   "metadata": {
    "collapsed": false,
    "ExecuteTime": {
     "end_time": "2023-12-19T10:07:57.005221900Z",
     "start_time": "2023-12-19T10:07:56.984217500Z"
    }
   }
  },
  {
   "cell_type": "code",
   "execution_count": 40,
   "outputs": [
    {
     "data": {
      "text/plain": "17045    7562\n18198    8353\n41654    2083\n10793    5112\n24866     734\n         ... \n5279     3933\n26729     798\n2600     3283\n13570    5973\n10356    5002\nName: price, Length: 9175, dtype: int64"
     },
     "execution_count": 40,
     "metadata": {},
     "output_type": "execute_result"
    }
   ],
   "source": [
    "Y_reg_test"
   ],
   "metadata": {
    "collapsed": false,
    "ExecuteTime": {
     "end_time": "2023-12-19T10:07:57.005721700Z",
     "start_time": "2023-12-19T10:07:56.996009Z"
    }
   }
  },
  {
   "cell_type": "code",
   "execution_count": 41,
   "metadata": {
    "ExecuteTime": {
     "end_time": "2023-12-19T10:08:43.609261500Z",
     "start_time": "2023-12-19T10:07:56.999718400Z"
    }
   },
   "outputs": [
    {
     "name": "stdout",
     "output_type": "stream",
     "text": [
      "Epoch 1/30\n",
      "1147/1147 [==============================] - 2s 1ms/step - loss: 2546.7710 - val_loss: 2543.0505\n",
      "Epoch 2/30\n",
      "1147/1147 [==============================] - 2s 1ms/step - loss: 1599.1979 - val_loss: 1145.3430\n",
      "Epoch 3/30\n",
      "1147/1147 [==============================] - 2s 1ms/step - loss: 1224.9050 - val_loss: 935.9271\n",
      "Epoch 4/30\n",
      "1147/1147 [==============================] - 2s 1ms/step - loss: 1153.8824 - val_loss: 931.9927\n",
      "Epoch 5/30\n",
      "1147/1147 [==============================] - 2s 1ms/step - loss: 1110.7406 - val_loss: 895.5129\n",
      "Epoch 6/30\n",
      "1147/1147 [==============================] - 2s 1ms/step - loss: 1081.7499 - val_loss: 881.7810\n",
      "Epoch 7/30\n",
      "1147/1147 [==============================] - 2s 1ms/step - loss: 1043.9021 - val_loss: 788.8759\n",
      "Epoch 8/30\n",
      "1147/1147 [==============================] - 2s 1ms/step - loss: 1010.7935 - val_loss: 818.7474\n",
      "Epoch 9/30\n",
      "1147/1147 [==============================] - 2s 1ms/step - loss: 985.6853 - val_loss: 707.0436\n",
      "Epoch 10/30\n",
      "1147/1147 [==============================] - 2s 1ms/step - loss: 958.1059 - val_loss: 647.9822\n",
      "Epoch 11/30\n",
      "1147/1147 [==============================] - 2s 1ms/step - loss: 931.3875 - val_loss: 619.7900\n",
      "Epoch 12/30\n",
      "1147/1147 [==============================] - 2s 1ms/step - loss: 894.7594 - val_loss: 576.8034\n",
      "Epoch 13/30\n",
      "1147/1147 [==============================] - 2s 1ms/step - loss: 867.2607 - val_loss: 564.8261\n",
      "Epoch 14/30\n",
      "1147/1147 [==============================] - 2s 1ms/step - loss: 843.6323 - val_loss: 554.4673\n",
      "Epoch 15/30\n",
      "1147/1147 [==============================] - 2s 1ms/step - loss: 826.3607 - val_loss: 507.5703\n",
      "Epoch 16/30\n",
      "1147/1147 [==============================] - 2s 1ms/step - loss: 818.0619 - val_loss: 572.8212\n",
      "Epoch 17/30\n",
      "1147/1147 [==============================] - 2s 1ms/step - loss: 799.1465 - val_loss: 469.3551\n",
      "Epoch 18/30\n",
      "1147/1147 [==============================] - 2s 1ms/step - loss: 795.4341 - val_loss: 515.7261\n",
      "Epoch 19/30\n",
      "1147/1147 [==============================] - 2s 1ms/step - loss: 780.1868 - val_loss: 459.7258\n",
      "Epoch 20/30\n",
      "1147/1147 [==============================] - 2s 1ms/step - loss: 763.9156 - val_loss: 438.1050\n",
      "Epoch 21/30\n",
      "1147/1147 [==============================] - 2s 1ms/step - loss: 763.7753 - val_loss: 465.3147\n",
      "Epoch 22/30\n",
      "1147/1147 [==============================] - 2s 1ms/step - loss: 760.2231 - val_loss: 554.1677\n",
      "Epoch 23/30\n",
      "1147/1147 [==============================] - 2s 1ms/step - loss: 760.2914 - val_loss: 474.8142\n",
      "Epoch 24/30\n",
      "1147/1147 [==============================] - 2s 1ms/step - loss: 749.5441 - val_loss: 445.1747\n",
      "Epoch 25/30\n",
      "1147/1147 [==============================] - 2s 1ms/step - loss: 738.2286 - val_loss: 498.7628\n",
      "Epoch 26/30\n",
      "1147/1147 [==============================] - 2s 1ms/step - loss: 727.9130 - val_loss: 687.0200\n",
      "Epoch 27/30\n",
      "1147/1147 [==============================] - 2s 1ms/step - loss: 719.6677 - val_loss: 455.2354\n",
      "Epoch 28/30\n",
      "1147/1147 [==============================] - 2s 1ms/step - loss: 708.6169 - val_loss: 463.8548\n",
      "Epoch 29/30\n",
      "1147/1147 [==============================] - 2s 1ms/step - loss: 704.7196 - val_loss: 552.9929\n",
      "Epoch 30/30\n",
      "1147/1147 [==============================] - 2s 1ms/step - loss: 697.4986 - val_loss: 784.5480\n"
     ]
    },
    {
     "data": {
      "text/plain": "<keras.src.callbacks.History at 0x20c5c96a8d0>"
     },
     "execution_count": 41,
     "metadata": {},
     "output_type": "execute_result"
    }
   ],
   "source": [
    "regression_model.fit(X_reg_train, Y_reg_train, epochs=30, verbose=True, validation_data=(X_reg_test, Y_reg_test))"
   ]
  },
  {
   "cell_type": "code",
   "execution_count": 42,
   "metadata": {
    "ExecuteTime": {
     "end_time": "2023-12-19T10:08:43.918838Z",
     "start_time": "2023-12-19T10:08:43.609261500Z"
    }
   },
   "outputs": [
    {
     "name": "stdout",
     "output_type": "stream",
     "text": [
      "287/287 [==============================] - 0s 614us/step\n"
     ]
    }
   ],
   "source": [
    "regression_prediction = regression_model.predict(X_reg_test)"
   ]
  },
  {
   "cell_type": "code",
   "execution_count": 43,
   "metadata": {
    "ExecuteTime": {
     "end_time": "2023-12-19T10:08:43.924456200Z",
     "start_time": "2023-12-19T10:08:43.918838Z"
    }
   },
   "outputs": [
    {
     "name": "stdout",
     "output_type": "stream",
     "text": [
      "784.5481186166706\n",
      "1430388.260647498\n",
      "0.8169717448247352\n",
      "5855.2939453125\n"
     ]
    },
    {
     "name": "stderr",
     "output_type": "stream",
     "text": [
      "C:\\Users\\Capybaras\\anaconda3\\Lib\\site-packages\\sklearn\\utils\\validation.py:605: FutureWarning: is_sparse is deprecated and will be removed in a future version. Check `isinstance(dtype, pd.SparseDtype)` instead.\n",
      "  if is_sparse(pd_dtype):\n",
      "C:\\Users\\Capybaras\\anaconda3\\Lib\\site-packages\\sklearn\\utils\\validation.py:614: FutureWarning: is_sparse is deprecated and will be removed in a future version. Check `isinstance(dtype, pd.SparseDtype)` instead.\n",
      "  if is_sparse(pd_dtype) or not is_extension_array_dtype(pd_dtype):\n",
      "C:\\Users\\Capybaras\\anaconda3\\Lib\\site-packages\\sklearn\\utils\\validation.py:605: FutureWarning: is_sparse is deprecated and will be removed in a future version. Check `isinstance(dtype, pd.SparseDtype)` instead.\n",
      "  if is_sparse(pd_dtype):\n",
      "C:\\Users\\Capybaras\\anaconda3\\Lib\\site-packages\\sklearn\\utils\\validation.py:614: FutureWarning: is_sparse is deprecated and will be removed in a future version. Check `isinstance(dtype, pd.SparseDtype)` instead.\n",
      "  if is_sparse(pd_dtype) or not is_extension_array_dtype(pd_dtype):\n",
      "C:\\Users\\Capybaras\\anaconda3\\Lib\\site-packages\\sklearn\\utils\\validation.py:605: FutureWarning: is_sparse is deprecated and will be removed in a future version. Check `isinstance(dtype, pd.SparseDtype)` instead.\n",
      "  if is_sparse(pd_dtype):\n",
      "C:\\Users\\Capybaras\\anaconda3\\Lib\\site-packages\\sklearn\\utils\\validation.py:614: FutureWarning: is_sparse is deprecated and will be removed in a future version. Check `isinstance(dtype, pd.SparseDtype)` instead.\n",
      "  if is_sparse(pd_dtype) or not is_extension_array_dtype(pd_dtype):\n",
      "C:\\Users\\Capybaras\\anaconda3\\Lib\\site-packages\\sklearn\\utils\\validation.py:605: FutureWarning: is_sparse is deprecated and will be removed in a future version. Check `isinstance(dtype, pd.SparseDtype)` instead.\n",
      "  if is_sparse(pd_dtype):\n",
      "C:\\Users\\Capybaras\\anaconda3\\Lib\\site-packages\\sklearn\\utils\\validation.py:614: FutureWarning: is_sparse is deprecated and will be removed in a future version. Check `isinstance(dtype, pd.SparseDtype)` instead.\n",
      "  if is_sparse(pd_dtype) or not is_extension_array_dtype(pd_dtype):\n"
     ]
    }
   ],
   "source": [
    "print(metrics.mean_absolute_error(Y_reg_test, regression_prediction))\n",
    "print(metrics.mean_squared_error(Y_reg_test, regression_prediction))\n",
    "print(metrics.r2_score(Y_reg_test, regression_prediction))\n",
    "print(metrics.max_error(Y_reg_test, regression_prediction))"
   ]
  },
  {
   "cell_type": "code",
   "execution_count": 44,
   "metadata": {
    "ExecuteTime": {
     "end_time": "2023-12-19T10:08:44.034194800Z",
     "start_time": "2023-12-19T10:08:43.936956Z"
    }
   },
   "outputs": [
    {
     "data": {
      "text/plain": "<Figure size 640x480 with 1 Axes>",
      "image/png": "[encoded data removed]"
     },
     "metadata": {},
     "output_type": "display_data"
    }
   ],
   "source": [
    "plt.plot(Y_reg_test.to_numpy()[:100], label=\"Actual\")\n",
    "plt.plot(regression_prediction[:100], label=\"Prediction\")\n",
    "plt.legend();"
   ]
  },
  {
   "cell_type": "code",
   "execution_count": 45,
   "metadata": {
    "ExecuteTime": {
     "end_time": "2023-12-19T10:08:44.048690300Z",
     "start_time": "2023-12-19T10:08:44.034694900Z"
    }
   },
   "outputs": [
    {
     "data": {
      "text/plain": "fraud\n0    658675\n1    658675\nName: count, dtype: int64"
     },
     "execution_count": 45,
     "metadata": {},
     "output_type": "execute_result"
    }
   ],
   "source": [
    "Y_class_train.value_counts()"
   ]
  },
  {
   "cell_type": "code",
   "execution_count": 46,
   "metadata": {
    "ExecuteTime": {
     "end_time": "2023-12-19T10:08:44.099961500Z",
     "start_time": "2023-12-19T10:08:44.045191500Z"
    }
   },
   "outputs": [],
   "source": [
    "classification_model = tf.keras.Sequential(\n",
    "    [\n",
    "        tf.keras.layers.Input(shape=(7,)),\n",
    "        tf.keras.layers.Dense(10, activation=\"tanh\"),\n",
    "        tf.keras.layers.Dropout(0.5),\n",
    "        tf.keras.layers.Dense(8, activation=\"tanh\"),\n",
    "        tf.keras.layers.Dropout(0.5),\n",
    "        tf.keras.layers.Dense(6, activation=\"linear\"),\n",
    "        tf.keras.layers.Dropout(0.5),\n",
    "        tf.keras.layers.Dense(4, activation=\"relu\"),\n",
    "        tf.keras.layers.Dropout(0.5),\n",
    "        tf.keras.layers.Dense(1, activation=\"sigmoid\")\n",
    "    ]\n",
    ")"
   ]
  },
  {
   "cell_type": "code",
   "execution_count": 47,
   "metadata": {
    "ExecuteTime": {
     "end_time": "2023-12-19T10:08:44.128013300Z",
     "start_time": "2023-12-19T10:08:44.089592800Z"
    }
   },
   "outputs": [
    {
     "name": "stdout",
     "output_type": "stream",
     "text": [
      "Model: \"sequential_3\"\n",
      "_________________________________________________________________\n",
      " Layer (type)                Output Shape              Param #   \n",
      "=================================================================\n",
      " dense_11 (Dense)            (None, 10)                80        \n",
      "                                                                 \n",
      " dropout_8 (Dropout)         (None, 10)                0         \n",
      "                                                                 \n",
      " dense_12 (Dense)            (None, 8)                 88        \n",
      "                                                                 \n",
      " dropout_9 (Dropout)         (None, 8)                 0         \n",
      "                                                                 \n",
      " dense_13 (Dense)            (None, 6)                 54        \n",
      "                                                                 \n",
      " dropout_10 (Dropout)        (None, 6)                 0         \n",
      "                                                                 \n",
      " dense_14 (Dense)            (None, 4)                 28        \n",
      "                                                                 \n",
      " dropout_11 (Dropout)        (None, 4)                 0         \n",
      "                                                                 \n",
      " dense_15 (Dense)            (None, 1)                 5         \n",
      "                                                                 \n",
      "=================================================================\n",
      "Total params: 255 (1020.00 Byte)\n",
      "Trainable params: 255 (1020.00 Byte)\n",
      "Non-trainable params: 0 (0.00 Byte)\n",
      "_________________________________________________________________\n"
     ]
    }
   ],
   "source": [
    "classification_model.summary()"
   ]
  },
  {
   "cell_type": "code",
   "execution_count": 48,
   "metadata": {
    "ExecuteTime": {
     "end_time": "2023-12-19T10:08:44.142512500Z",
     "start_time": "2023-12-19T10:08:44.104470100Z"
    }
   },
   "outputs": [],
   "source": [
    "classification_model.compile(optimizer=tf.keras.optimizers.RMSprop(learning_rate=0.0001), loss=tf.keras.losses.Poisson(), metrics=[tf.metrics.BinaryAccuracy()])"
   ]
  },
  {
   "cell_type": "code",
   "execution_count": 49,
   "metadata": {
    "ExecuteTime": {
     "end_time": "2023-12-19T10:12:03.611737100Z",
     "start_time": "2023-12-19T10:08:44.114513600Z"
    }
   },
   "outputs": [
    {
     "name": "stdout",
     "output_type": "stream",
     "text": [
      "Epoch 1/5\n",
      "41168/41168 [==============================] - 49s 1ms/step - loss: 0.7004 - binary_accuracy: 0.8518 - val_loss: 0.1663 - val_binary_accuracy: 0.9644\n",
      "Epoch 2/5\n",
      "41168/41168 [==============================] - 37s 910us/step - loss: 0.6233 - binary_accuracy: 0.9352 - val_loss: 0.1360 - val_binary_accuracy: 0.9779\n",
      "Epoch 3/5\n",
      "41168/41168 [==============================] - 38s 912us/step - loss: 0.6178 - binary_accuracy: 0.9411 - val_loss: 0.1331 - val_binary_accuracy: 0.9790\n",
      "Epoch 4/5\n",
      "41168/41168 [==============================] - 37s 910us/step - loss: 0.6163 - binary_accuracy: 0.9427 - val_loss: 0.1316 - val_binary_accuracy: 0.9809\n",
      "Epoch 5/5\n",
      "41168/41168 [==============================] - 38s 912us/step - loss: 0.6157 - binary_accuracy: 0.9433 - val_loss: 0.1313 - val_binary_accuracy: 0.9809\n"
     ]
    },
    {
     "data": {
      "text/plain": "<keras.src.callbacks.History at 0x20c079c80d0>"
     },
     "execution_count": 49,
     "metadata": {},
     "output_type": "execute_result"
    }
   ],
   "source": [
    "classification_model.fit(X_class_train, Y_class_train, epochs=5, verbose=True, validation_data=(X_class_test, Y_class_test))"
   ]
  },
  {
   "cell_type": "code",
   "execution_count": 50,
   "metadata": {
    "ExecuteTime": {
     "end_time": "2023-12-19T10:12:08.176830800Z",
     "start_time": "2023-12-19T10:12:03.612237200Z"
    }
   },
   "outputs": [
    {
     "name": "stdout",
     "output_type": "stream",
     "text": [
      "5377/5377 [==============================] - 3s 591us/step\n"
     ]
    },
    {
     "data": {
      "text/plain": "array([[0.07344728],\n       [0.07344728],\n       [0.07344728],\n       ...,\n       [1.        ],\n       [0.07344728],\n       [0.07344728]], dtype=float32)"
     },
     "execution_count": 50,
     "metadata": {},
     "output_type": "execute_result"
    }
   ],
   "source": [
    "classification_prediction: np.ndarray = classification_model.predict(X_class_test)\n",
    "classification_prediction"
   ]
  },
  {
   "cell_type": "code",
   "execution_count": 51,
   "metadata": {
    "ExecuteTime": {
     "end_time": "2023-12-19T10:12:08.182629800Z",
     "start_time": "2023-12-19T10:12:08.177829100Z"
    }
   },
   "outputs": [
    {
     "data": {
      "text/plain": "array([[0.],\n       [0.],\n       [0.],\n       ...,\n       [1.],\n       [0.],\n       [0.]], dtype=float32)"
     },
     "execution_count": 51,
     "metadata": {},
     "output_type": "execute_result"
    }
   ],
   "source": [
    "classification_prediction = classification_prediction.round()\n",
    "classification_prediction"
   ]
  },
  {
   "cell_type": "code",
   "execution_count": 52,
   "metadata": {
    "ExecuteTime": {
     "end_time": "2023-12-19T10:12:08.323771200Z",
     "start_time": "2023-12-19T10:12:08.182130Z"
    }
   },
   "outputs": [
    {
     "name": "stdout",
     "output_type": "stream",
     "text": [
      "              precision    recall  f1-score   support\n",
      "\n",
      "           0       1.00      0.98      0.99    164669\n",
      "           1       0.70      0.99      0.82      7395\n",
      "\n",
      "    accuracy                           0.98    172064\n",
      "   macro avg       0.85      0.98      0.90    172064\n",
      "weighted avg       0.99      0.98      0.98    172064\n"
     ]
    },
    {
     "name": "stderr",
     "output_type": "stream",
     "text": [
      "C:\\Users\\Capybaras\\anaconda3\\Lib\\site-packages\\sklearn\\utils\\validation.py:605: FutureWarning: is_sparse is deprecated and will be removed in a future version. Check `isinstance(dtype, pd.SparseDtype)` instead.\n",
      "  if is_sparse(pd_dtype):\n",
      "C:\\Users\\Capybaras\\anaconda3\\Lib\\site-packages\\sklearn\\utils\\validation.py:614: FutureWarning: is_sparse is deprecated and will be removed in a future version. Check `isinstance(dtype, pd.SparseDtype)` instead.\n",
      "  if is_sparse(pd_dtype) or not is_extension_array_dtype(pd_dtype):\n",
      "C:\\Users\\Capybaras\\anaconda3\\Lib\\site-packages\\sklearn\\utils\\validation.py:605: FutureWarning: is_sparse is deprecated and will be removed in a future version. Check `isinstance(dtype, pd.SparseDtype)` instead.\n",
      "  if is_sparse(pd_dtype):\n",
      "C:\\Users\\Capybaras\\anaconda3\\Lib\\site-packages\\sklearn\\utils\\validation.py:614: FutureWarning: is_sparse is deprecated and will be removed in a future version. Check `isinstance(dtype, pd.SparseDtype)` instead.\n",
      "  if is_sparse(pd_dtype) or not is_extension_array_dtype(pd_dtype):\n",
      "C:\\Users\\Capybaras\\anaconda3\\Lib\\site-packages\\sklearn\\utils\\validation.py:605: FutureWarning: is_sparse is deprecated and will be removed in a future version. Check `isinstance(dtype, pd.SparseDtype)` instead.\n",
      "  if is_sparse(pd_dtype):\n",
      "C:\\Users\\Capybaras\\anaconda3\\Lib\\site-packages\\sklearn\\utils\\validation.py:614: FutureWarning: is_sparse is deprecated and will be removed in a future version. Check `isinstance(dtype, pd.SparseDtype)` instead.\n",
      "  if is_sparse(pd_dtype) or not is_extension_array_dtype(pd_dtype):\n"
     ]
    }
   ],
   "source": [
    "print(metrics.classification_report(Y_class_test, classification_prediction))"
   ]
  },
  {
   "cell_type": "code",
   "execution_count": 53,
   "metadata": {
    "ExecuteTime": {
     "end_time": "2023-12-19T10:12:08.339917700Z",
     "start_time": "2023-12-19T10:12:08.335771300Z"
    }
   },
   "outputs": [],
   "source": [
    "from abc import ABCMeta, abstractmethod\n",
    "from typing import *\n",
    "from typing_extensions import Self\n",
    "from numpy.typing import NDArray\n",
    "import copy\n",
    "\n",
    "\n",
    "class _ActivationFunction(metaclass=ABCMeta):\n",
    "    '''Abstract class that should contain functions for forward and backward propagation.'''\n",
    "\n",
    "    @staticmethod\n",
    "    @abstractmethod\n",
    "    def forward(X: NDArray) -> NDArray:\n",
    "        raise NotImplementedError\n",
    "    \n",
    "    @staticmethod\n",
    "    @abstractmethod\n",
    "    def backward(X: NDArray, dX_previous: NDArray) -> NDArray:\n",
    "        raise NotImplementedError\n",
    "\n",
    "class Sigmoid(_ActivationFunction):\n",
    "    @staticmethod\n",
    "    def forward(X: NDArray) -> NDArray:\n",
    "        return 1 / (1 + np.exp(-X))\n",
    "    \n",
    "    @staticmethod\n",
    "    def backward(X: NDArray, dX_previous: NDArray) -> NDArray:\n",
    "        sigmoid = 1 / (1 + np.exp(-X))\n",
    "        return dX_previous * sigmoid * (1 - sigmoid)\n",
    "\n",
    "class Linear(_ActivationFunction):\n",
    "    @staticmethod\n",
    "    def forward(X: NDArray) -> NDArray:\n",
    "        return copy.deepcopy(X)\n",
    "    \n",
    "    @staticmethod\n",
    "    def backward(X: NDArray, dX_previous: NDArray) -> NDArray:\n",
    "        return dX_previous\n",
    "\n",
    "class Tanh(_ActivationFunction):\n",
    "    @staticmethod\n",
    "    def forward(X: NDArray) -> NDArray:\n",
    "        return np.tanh(X)\n",
    "    \n",
    "    @staticmethod\n",
    "    def backward(X: NDArray, dX_previous: NDArray) -> NDArray:\n",
    "        tanh_ = np.tanh(X)\n",
    "        return dX_previous * (1 - np.power(tanh_, 2))\n",
    "\n",
    "class Relu(_ActivationFunction):\n",
    "    @staticmethod\n",
    "    def forward(X: NDArray) -> NDArray:\n",
    "        return np.maximum(0, X)\n",
    "    \n",
    "    @staticmethod\n",
    "    def backward(X: NDArray, dX_previous: NDArray) -> NDArray:\n",
    "        return np.where(X, 1., 0.) * dX_previous\n",
    "    \n",
    "class Softmax(_ActivationFunction):\n",
    "    @staticmethod\n",
    "    def forward(X: NDArray) -> NDArray:\n",
    "        exp_ = np.exp(X)\n",
    "        sum_ = np.sum(exp_, axis=1).reshape(-1, 1)\n",
    "        return exp_ / sum_\n",
    "    \n",
    "    @staticmethod\n",
    "    def backward(X: NDArray, dX_previous: NDArray) -> NDArray:\n",
    "        dX: NDArray = np.diag(X) - np.dot(X, X.T)\n",
    "        return dX_previous * dX.sum(axis=0).reshape(-1, 1)\n",
    "\n",
    "class LossFunctions:\n",
    "    @staticmethod\n",
    "    def mse(Y_prediction: NDArray, Y_actual: NDArray) -> float:\n",
    "        return np.power(Y_prediction - Y_actual, 2).sum() / Y_actual.shape[0]\n",
    "    \n",
    "    @staticmethod\n",
    "    def binary_cross_entropy(Y_prediction: NDArray, Y_actual: NDArray) -> float:\n",
    "        return -np.sum(Y_actual * np.log(Y_prediction))\n",
    "\n",
    "class _PerceptronLayer(metaclass=ABCMeta):\n",
    "    '''Abstract class for a perceptron layer'''\n",
    "    def __init__(self, units_shape: tuple[int, int]) -> None:\n",
    "        self.units_shape = units_shape\n",
    "        self.A_prev: Optional[NDArray] = None\n",
    "\n",
    "    @abstractmethod\n",
    "    def forward_propagation(self, X: NDArray) -> NDArray:\n",
    "        raise NotImplementedError\n",
    "    \n",
    "    @abstractmethod\n",
    "    def backward_propagation(self, dX_previous: NDArray) -> tuple[NDArray, Optional[dict[str, Any]]]:\n",
    "        raise NotImplementedError\n",
    "\n",
    "class InputLayer(_PerceptronLayer):\n",
    "    def __init__(self, units_number: int) -> None:\n",
    "        super().__init__((units_number, 1))\n",
    "    \n",
    "    def forward_propagation(self, X: NDArray) -> NDArray:\n",
    "        self.A_prev = X\n",
    "        X = np.dot(X, np.ones((1, 1)))\n",
    "        return X\n",
    "    \n",
    "    def backward_propagation(self, dX_previous: NDArray) -> tuple[NDArray, None]:\n",
    "        return dX_previous, None\n",
    "\n",
    "class DenseLayer(_PerceptronLayer):\n",
    "    def __init__(self, func: _ActivationFunction, units_shape: tuple[int, int]) -> None:\n",
    "        super().__init__(units_shape)\n",
    "        self.function = func\n",
    "        self.weights = np.random.randn(*units_shape) * 0.1\n",
    "        self.bias = np.zeros((units_shape[0], 1), dtype=float)\n",
    "        self.A_before_activation: Optional[NDArray] = None\n",
    "    \n",
    "    def forward_propagation(self, X: NDArray) -> NDArray:\n",
    "        self.A_prev = X\n",
    "        \n",
    "        A: NDArray = self.weights.dot(X) + self.bias\n",
    "        self.A_before_activation = A\n",
    "        return self.function.forward(A)\n",
    "    \n",
    "    def backward_propagation(self, dX_previous: NDArray) -> tuple[NDArray, dict[str, NDArray]]:\n",
    "        m = self.A_prev.shape[0]\n",
    "        dX_previous = self.function.backward(self.A_before_activation, dX_previous)\n",
    "        d_weights = dX_previous.dot(self.A_prev.T) / m\n",
    "        d_bias = np.sum(dX_previous, axis=1, keepdims=True) / m\n",
    "        return (dX_previous, {\"d_weights\": d_weights, \"d_bias\": d_bias})\n",
    "    \n",
    "    def update_parameters(self, d_weights: NDArray, d_bias: NDArray, learning_rate: float) -> None:\n",
    "        self.weights = self.weights - d_weights * learning_rate\n",
    "        self.bias = self.bias - d_bias * learning_rate\n",
    "\n",
    "class PerceptronModel:\n",
    "    def __init__(self, learning_rate: float, loss_function: Callable[[NDArray, NDArray], float], layers: Optional[Iterable[_PerceptronLayer]] = None) -> None:\n",
    "        self._layers = list(layers) if layers != None else list()\n",
    "        self.learning_rate = learning_rate\n",
    "        self._loss = loss_function\n",
    "    \n",
    "    def fit(self, X: NDArray, Y: NDArray, epochs: int = 1) -> Self:\n",
    "        for epoch in range(epochs):\n",
    "            for i in range(X.shape[0]):\n",
    "                A: NDArray = copy.deepcopy(X[i]).reshape((-1, 1))\n",
    "                for layer in self._layers: # forward\n",
    "                    A = layer.forward_propagation(A)\n",
    "                cost = self._loss(A, Y[i])\n",
    "                dA = np.array([[cost * self.learning_rate]])\n",
    "                for layer in reversed(self._layers): # backward\n",
    "                    dA, gradients = layer.backward_propagation(dA)\n",
    "                    if isinstance(layer, DenseLayer):\n",
    "                        layer.update_parameters(**gradients, learning_rate=self.learning_rate)\n",
    "        return self\n",
    "    \n",
    "    def predict(self, X: NDArray) -> NDArray:\n",
    "        result: NDArray = np.empty((X.shape[0], 1))\n",
    "        for i, X_row in enumerate(X):\n",
    "            A = X_row.reshape(-1, 1)\n",
    "            for layer in self._layers:\n",
    "                A: NDArray = layer.forward_propagation(A)\n",
    "            result[i] = A\n",
    "        return result\n",
    "\n",
    "    @property\n",
    "    def layers(self) -> list[_PerceptronLayer]:\n",
    "        return self._layers"
   ]
  },
  {
   "cell_type": "code",
   "execution_count": 54,
   "metadata": {
    "ExecuteTime": {
     "end_time": "2023-12-19T10:12:08.359193900Z",
     "start_time": "2023-12-19T10:12:08.341418600Z"
    }
   },
   "outputs": [],
   "source": [
    "model_ = PerceptronModel(0.00000003, LossFunctions.binary_cross_entropy)\n",
    "model_.layers.extend((InputLayer(7),\n",
    "                      DenseLayer(Relu, (4, 7)),\n",
    "                      DenseLayer(Sigmoid, (1, 4))))"
   ]
  },
  {
   "cell_type": "code",
   "execution_count": 55,
   "metadata": {
    "ExecuteTime": {
     "end_time": "2023-12-19T10:12:08.360195100Z",
     "start_time": "2023-12-19T10:12:08.345828800Z"
    }
   },
   "outputs": [
    {
     "data": {
      "text/plain": "((10000, 7), (10000, 1))"
     },
     "execution_count": 55,
     "metadata": {},
     "output_type": "execute_result"
    }
   ],
   "source": [
    "Y_prediction = X_class_train.to_numpy()[:10000]\n",
    "Y_actual = Y_class_train.iloc[:10000].to_numpy().reshape((-1, 1))\n",
    "Y_prediction.shape, Y_actual.shape"
   ]
  },
  {
   "cell_type": "code",
   "execution_count": 56,
   "metadata": {
    "ExecuteTime": {
     "end_time": "2023-12-19T10:12:10.660428400Z",
     "start_time": "2023-12-19T10:12:08.359193900Z"
    }
   },
   "outputs": [
    {
     "data": {
      "text/plain": "<__main__.PerceptronModel at 0x20c079aa010>"
     },
     "execution_count": 56,
     "metadata": {},
     "output_type": "execute_result"
    }
   ],
   "source": [
    "model_.fit(Y_prediction, Y_actual, 4)"
   ]
  },
  {
   "cell_type": "code",
   "execution_count": 57,
   "metadata": {
    "ExecuteTime": {
     "end_time": "2023-12-19T10:12:12.445321300Z",
     "start_time": "2023-12-19T10:12:10.657423200Z"
    }
   },
   "outputs": [],
   "source": [
    "Y_class_perceptron_prediction = model_.predict(X_class_test.to_numpy())"
   ]
  },
  {
   "cell_type": "code",
   "execution_count": 58,
   "metadata": {
    "ExecuteTime": {
     "end_time": "2023-12-19T10:12:12.451721300Z",
     "start_time": "2023-12-19T10:12:12.447820700Z"
    }
   },
   "outputs": [
    {
     "data": {
      "text/plain": "5130.2681374665435"
     },
     "execution_count": 58,
     "metadata": {},
     "output_type": "execute_result"
    }
   ],
   "source": [
    "LossFunctions.binary_cross_entropy(Y_class_perceptron_prediction, Y_class_test.to_numpy().reshape(-1, 1))"
   ]
  },
  {
   "cell_type": "code",
   "execution_count": 59,
   "metadata": {
    "ExecuteTime": {
     "end_time": "2023-12-19T10:12:12.573134500Z",
     "start_time": "2023-12-19T10:12:12.452721500Z"
    }
   },
   "outputs": [
    {
     "name": "stdout",
     "output_type": "stream",
     "text": [
      "              precision    recall  f1-score   support\n",
      "\n",
      "           0       0.95      0.78      0.85    164669\n",
      "           1       0.00      0.00      0.00      7395\n",
      "\n",
      "    accuracy                           0.74    172064\n",
      "   macro avg       0.47      0.39      0.43    172064\n",
      "weighted avg       0.90      0.74      0.82    172064\n"
     ]
    },
    {
     "name": "stderr",
     "output_type": "stream",
     "text": [
      "C:\\Users\\Capybaras\\anaconda3\\Lib\\site-packages\\sklearn\\utils\\validation.py:605: FutureWarning: is_sparse is deprecated and will be removed in a future version. Check `isinstance(dtype, pd.SparseDtype)` instead.\n",
      "  if is_sparse(pd_dtype):\n",
      "C:\\Users\\Capybaras\\anaconda3\\Lib\\site-packages\\sklearn\\utils\\validation.py:614: FutureWarning: is_sparse is deprecated and will be removed in a future version. Check `isinstance(dtype, pd.SparseDtype)` instead.\n",
      "  if is_sparse(pd_dtype) or not is_extension_array_dtype(pd_dtype):\n",
      "C:\\Users\\Capybaras\\anaconda3\\Lib\\site-packages\\sklearn\\utils\\validation.py:605: FutureWarning: is_sparse is deprecated and will be removed in a future version. Check `isinstance(dtype, pd.SparseDtype)` instead.\n",
      "  if is_sparse(pd_dtype):\n",
      "C:\\Users\\Capybaras\\anaconda3\\Lib\\site-packages\\sklearn\\utils\\validation.py:614: FutureWarning: is_sparse is deprecated and will be removed in a future version. Check `isinstance(dtype, pd.SparseDtype)` instead.\n",
      "  if is_sparse(pd_dtype) or not is_extension_array_dtype(pd_dtype):\n",
      "C:\\Users\\Capybaras\\anaconda3\\Lib\\site-packages\\sklearn\\utils\\validation.py:605: FutureWarning: is_sparse is deprecated and will be removed in a future version. Check `isinstance(dtype, pd.SparseDtype)` instead.\n",
      "  if is_sparse(pd_dtype):\n",
      "C:\\Users\\Capybaras\\anaconda3\\Lib\\site-packages\\sklearn\\utils\\validation.py:614: FutureWarning: is_sparse is deprecated and will be removed in a future version. Check `isinstance(dtype, pd.SparseDtype)` instead.\n",
      "  if is_sparse(pd_dtype) or not is_extension_array_dtype(pd_dtype):\n"
     ]
    }
   ],
   "source": [
    "print(metrics.classification_report(Y_class_test, Y_class_perceptron_prediction.round().astype(int)))"
   ]
  }
 ],
 "metadata": {
  "kernelspec": {
   "display_name": "machine_learning",
   "language": "python",
   "name": "python3"
  },
  "language_info": {
   "codemirror_mode": {
    "name": "ipython",
    "version": 3
   },
   "file_extension": ".py",
   "mimetype": "text/x-python",
   "name": "python",
   "nbconvert_exporter": "python",
   "pygments_lexer": "ipython3",
   "version": "3.10.4"
  },
  "orig_nbformat": 4
 },
 "nbformat": 4,
 "nbformat_minor": 2
}
